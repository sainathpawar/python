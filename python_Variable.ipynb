{
  "nbformat": 4,
  "nbformat_minor": 0,
  "metadata": {
    "colab": {
      "name": "python_Variable.ipynb",
      "provenance": []
    },
    "kernelspec": {
      "name": "python3",
      "display_name": "Python 3"
    },
    "language_info": {
      "name": "python"
    }
  },
  "cells": [
    {
      "cell_type": "code",
      "metadata": {
        "id": "3-g9rX3yyJvW"
      },
      "source": [
        "# Definition of variable - Containers to save the data values\n",
        "\n",
        "x = 5"
      ],
      "execution_count": null,
      "outputs": []
    },
    {
      "cell_type": "code",
      "metadata": {
        "colab": {
          "base_uri": "https://localhost:8080/"
        },
        "id": "ML8LC6jSyqmo",
        "outputId": "4d533144-02d9-4566-cecf-f4b0e015bce3"
      },
      "source": [
        "x\n",
        "\n",
        "# x is the variable & store data value 5"
      ],
      "execution_count": null,
      "outputs": [
        {
          "output_type": "execute_result",
          "data": {
            "text/plain": [
              "5"
            ]
          },
          "metadata": {
            "tags": []
          },
          "execution_count": 3
        }
      ]
    },
    {
      "cell_type": "code",
      "metadata": {
        "colab": {
          "base_uri": "https://localhost:8080/"
        },
        "id": "XvlxTHUHzcxf",
        "outputId": "d422cb3c-e5be-4112-ed22-e8f03d7c5ce3"
      },
      "source": [
        "print(type(x))"
      ],
      "execution_count": null,
      "outputs": [
        {
          "output_type": "stream",
          "text": [
            "<class 'int'>\n"
          ],
          "name": "stdout"
        }
      ]
    },
    {
      "cell_type": "code",
      "metadata": {
        "id": "QJaUqYNjyrh-"
      },
      "source": [
        "# other program - for ex int x = 5"
      ],
      "execution_count": null,
      "outputs": []
    },
    {
      "cell_type": "code",
      "metadata": {
        "colab": {
          "base_uri": "https://localhost:8080/",
          "height": 35
        },
        "id": "PztP4BRYzA0z",
        "outputId": "28072eb0-e2b5-4019-950c-6213ba4a4411"
      },
      "source": [
        "y = \"marathiaiml\"\n",
        "y"
      ],
      "execution_count": null,
      "outputs": [
        {
          "output_type": "execute_result",
          "data": {
            "application/vnd.google.colaboratory.intrinsic+json": {
              "type": "string"
            },
            "text/plain": [
              "'marathiaiml'"
            ]
          },
          "metadata": {
            "tags": []
          },
          "execution_count": 7
        }
      ]
    },
    {
      "cell_type": "code",
      "metadata": {
        "colab": {
          "base_uri": "https://localhost:8080/"
        },
        "id": "ydlJT5NazmRe",
        "outputId": "5182f20b-6043-4789-d607-736a28ab7d7c"
      },
      "source": [
        "print(type(y))"
      ],
      "execution_count": null,
      "outputs": [
        {
          "output_type": "stream",
          "text": [
            "<class 'str'>\n"
          ],
          "name": "stdout"
        }
      ]
    },
    {
      "cell_type": "code",
      "metadata": {
        "colab": {
          "base_uri": "https://localhost:8080/",
          "height": 35
        },
        "id": "wovKwdxazFdT",
        "outputId": "f8c17292-1034-4613-ba45-f78bd90bad57"
      },
      "source": [
        "y1 = 'marathiaiml'\n",
        "y1\n",
        "# shortcut to run the cell (shift + enter)"
      ],
      "execution_count": null,
      "outputs": [
        {
          "output_type": "execute_result",
          "data": {
            "application/vnd.google.colaboratory.intrinsic+json": {
              "type": "string"
            },
            "text/plain": [
              "'marathiaiml'"
            ]
          },
          "metadata": {
            "tags": []
          },
          "execution_count": 12
        }
      ]
    },
    {
      "cell_type": "code",
      "metadata": {
        "colab": {
          "base_uri": "https://localhost:8080/",
          "height": 52
        },
        "id": "aQfGiu4kzGDd",
        "outputId": "6302597f-a6cf-4920-f299-46c4d621d129"
      },
      "source": [
        "# Rule for variable decalaration\n",
        "'''\n",
        "Variable name must start with a letter or the underscrore character\n",
        "can not start with number\n",
        "can contain only alpha-nueric character & underscore (A-z,0-9,_)\n",
        "it is case sensitive\n",
        "'''"
      ],
      "execution_count": null,
      "outputs": [
        {
          "output_type": "execute_result",
          "data": {
            "application/vnd.google.colaboratory.intrinsic+json": {
              "type": "string"
            },
            "text/plain": [
              "'\\nVariable name must start with a letter or the underscrore character\\ncan not start with number\\ncan contain only alpha-nueric character & underscore (A-z,0-9,_)\\nit is case sensitive\\n'"
            ]
          },
          "metadata": {
            "tags": []
          },
          "execution_count": 15
        }
      ]
    },
    {
      "cell_type": "code",
      "metadata": {
        "colab": {
          "base_uri": "https://localhost:8080/"
        },
        "id": "-KuPEgxo0LIu",
        "outputId": "bee0bcd1-70d2-49bd-f684-548d8c3f458f"
      },
      "source": [
        "myvar = \"marathiaiml\"\n",
        "print(myvar)"
      ],
      "execution_count": null,
      "outputs": [
        {
          "output_type": "stream",
          "text": [
            "marathiaiml\n"
          ],
          "name": "stdout"
        }
      ]
    },
    {
      "cell_type": "code",
      "metadata": {
        "colab": {
          "base_uri": "https://localhost:8080/"
        },
        "id": "F6oP-stw0WaI",
        "outputId": "d8575bc9-e162-432a-a9c5-6d35ee1f51cb"
      },
      "source": [
        "MYVAR = \"youtube\"\n",
        "print(MYVAR)"
      ],
      "execution_count": null,
      "outputs": [
        {
          "output_type": "stream",
          "text": [
            "youtube\n"
          ],
          "name": "stdout"
        }
      ]
    },
    {
      "cell_type": "code",
      "metadata": {
        "id": "yL5KQvE90a0T"
      },
      "source": [
        "_myvar = \"aiml\""
      ],
      "execution_count": null,
      "outputs": []
    },
    {
      "cell_type": "code",
      "metadata": {
        "colab": {
          "base_uri": "https://localhost:8080/",
          "height": 129
        },
        "id": "12xgiD3X0mr6",
        "outputId": "c8a617f6-df03-40ba-a7c8-fc9de28443d6"
      },
      "source": [
        "1myvar = \"aiml\""
      ],
      "execution_count": null,
      "outputs": [
        {
          "output_type": "error",
          "ename": "SyntaxError",
          "evalue": "ignored",
          "traceback": [
            "\u001b[0;36m  File \u001b[0;32m\"<ipython-input-19-75c7b4c3a255>\"\u001b[0;36m, line \u001b[0;32m1\u001b[0m\n\u001b[0;31m    1myvar = \"aiml\"\u001b[0m\n\u001b[0m         ^\u001b[0m\n\u001b[0;31mSyntaxError\u001b[0m\u001b[0;31m:\u001b[0m invalid syntax\n"
          ]
        }
      ]
    },
    {
      "cell_type": "code",
      "metadata": {
        "id": "QIZswHu90pmF"
      },
      "source": [
        "myvar20 = \"aiml\""
      ],
      "execution_count": null,
      "outputs": []
    },
    {
      "cell_type": "code",
      "metadata": {
        "id": "8AqJNH7P0vX7"
      },
      "source": [
        "#camel Case \n",
        "\n",
        "myVar = \"aiml\"\n",
        "\n",
        "#Pascal Case\n",
        "MyVar = \"aiml1\"\n",
        "\n",
        "#snake case\n",
        "my_var = \"aiml2\""
      ],
      "execution_count": null,
      "outputs": []
    },
    {
      "cell_type": "code",
      "metadata": {
        "id": "99SHhGKk1EIX"
      },
      "source": [
        "### Python Variable Part 2"
      ],
      "execution_count": 2,
      "outputs": []
    },
    {
      "cell_type": "code",
      "metadata": {
        "colab": {
          "base_uri": "https://localhost:8080/"
        },
        "id": "JN5taA74FbWs",
        "outputId": "5427bb49-ee70-417e-c05a-aa09dcfcda7c"
      },
      "source": [
        "#Many values to multiple variable\n",
        "\n",
        "x , y , z = \"ai\",\"ml\",\"ds\"\n",
        "print(x)\n",
        "print(y)\n",
        "print(z)"
      ],
      "execution_count": 3,
      "outputs": [
        {
          "output_type": "stream",
          "text": [
            "ai\n",
            "ml\n",
            "ds\n"
          ],
          "name": "stdout"
        }
      ]
    },
    {
      "cell_type": "code",
      "metadata": {
        "colab": {
          "base_uri": "https://localhost:8080/"
        },
        "id": "Edq23JFfPj41",
        "outputId": "6ee224ff-0f35-4ab0-a221-290eb378bc88"
      },
      "source": [
        "#one value to single variable\n",
        "\n",
        "x = y = z = \"ai\"\n",
        "print(x)\n",
        "print(y)\n",
        "print(z)"
      ],
      "execution_count": 4,
      "outputs": [
        {
          "output_type": "stream",
          "text": [
            "ai\n",
            "ai\n",
            "ai\n"
          ],
          "name": "stdout"
        }
      ]
    },
    {
      "cell_type": "code",
      "metadata": {
        "colab": {
          "base_uri": "https://localhost:8080/"
        },
        "id": "_y7WmizdPxWG",
        "outputId": "a85a00b5-8f16-448e-878d-73f4f86b4c18"
      },
      "source": [
        "# Unpack collection - Unpacking\n",
        "\n",
        "game = [\"cricket\",\"football\",\"Racing\"]\n",
        "x, y , z = game\n",
        "print(x)\n",
        "print(y)\n",
        "print(z)"
      ],
      "execution_count": 6,
      "outputs": [
        {
          "output_type": "stream",
          "text": [
            "cricket\n",
            "football\n",
            "Racing\n"
          ],
          "name": "stdout"
        }
      ]
    },
    {
      "cell_type": "code",
      "metadata": {
        "colab": {
          "base_uri": "https://localhost:8080/"
        },
        "id": "8R2dyZk1QDBl",
        "outputId": "81e490ea-68f6-4cc2-b733-bb326d1325f6"
      },
      "source": [
        "x = \"very good\"\n",
        "print(\"I am\",x)"
      ],
      "execution_count": 7,
      "outputs": [
        {
          "output_type": "stream",
          "text": [
            "I am very good\n"
          ],
          "name": "stdout"
        }
      ]
    },
    {
      "cell_type": "code",
      "metadata": {
        "colab": {
          "base_uri": "https://localhost:8080/"
        },
        "id": "AiaiBJfLQiEX",
        "outputId": "52b369d6-cbd4-4a9c-8f68-d9f8deade4ed"
      },
      "source": [
        "x = \"very good\"\n",
        "print(\"I am \"+x)"
      ],
      "execution_count": 11,
      "outputs": [
        {
          "output_type": "stream",
          "text": [
            "I am very good\n"
          ],
          "name": "stdout"
        }
      ]
    },
    {
      "cell_type": "code",
      "metadata": {
        "colab": {
          "base_uri": "https://localhost:8080/"
        },
        "id": "96W4hUZxQkHy",
        "outputId": "edcdc9c2-bd56-4e99-8bd1-c9cf43d1128f"
      },
      "source": [
        "x = \"I\"\n",
        "y = \"am\"\n",
        "z = x + y\n",
        "print(z)"
      ],
      "execution_count": 12,
      "outputs": [
        {
          "output_type": "stream",
          "text": [
            "Iam\n"
          ],
          "name": "stdout"
        }
      ]
    },
    {
      "cell_type": "code",
      "metadata": {
        "colab": {
          "base_uri": "https://localhost:8080/"
        },
        "id": "6xB0TZtnQzo-",
        "outputId": "fba64852-4b5f-4fd8-94ee-db70ac162e36"
      },
      "source": [
        "x = 1\n",
        "y = 2\n",
        "z = x + y\n",
        "print(z)"
      ],
      "execution_count": 13,
      "outputs": [
        {
          "output_type": "stream",
          "text": [
            "3\n"
          ],
          "name": "stdout"
        }
      ]
    },
    {
      "cell_type": "code",
      "metadata": {
        "colab": {
          "base_uri": "https://localhost:8080/",
          "height": 214
        },
        "id": "J9LCx17sQ709",
        "outputId": "3a54d392-3709-4b09-a3c0-2c182a2d63ba"
      },
      "source": [
        "x = 1\n",
        "y = \"aiml\"\n",
        "z = x + y\n",
        "print(z)"
      ],
      "execution_count": 14,
      "outputs": [
        {
          "output_type": "error",
          "ename": "TypeError",
          "evalue": "ignored",
          "traceback": [
            "\u001b[0;31m---------------------------------------------------------------------------\u001b[0m",
            "\u001b[0;31mTypeError\u001b[0m                                 Traceback (most recent call last)",
            "\u001b[0;32m<ipython-input-14-4cea1cd9218e>\u001b[0m in \u001b[0;36m<module>\u001b[0;34m()\u001b[0m\n\u001b[1;32m      1\u001b[0m \u001b[0mx\u001b[0m \u001b[0;34m=\u001b[0m \u001b[0;36m1\u001b[0m\u001b[0;34m\u001b[0m\u001b[0;34m\u001b[0m\u001b[0m\n\u001b[1;32m      2\u001b[0m \u001b[0my\u001b[0m \u001b[0;34m=\u001b[0m \u001b[0;34m\"aiml\"\u001b[0m\u001b[0;34m\u001b[0m\u001b[0;34m\u001b[0m\u001b[0m\n\u001b[0;32m----> 3\u001b[0;31m \u001b[0mz\u001b[0m \u001b[0;34m=\u001b[0m \u001b[0mx\u001b[0m \u001b[0;34m+\u001b[0m \u001b[0my\u001b[0m\u001b[0;34m\u001b[0m\u001b[0;34m\u001b[0m\u001b[0m\n\u001b[0m\u001b[1;32m      4\u001b[0m \u001b[0mprint\u001b[0m\u001b[0;34m(\u001b[0m\u001b[0mz\u001b[0m\u001b[0;34m)\u001b[0m\u001b[0;34m\u001b[0m\u001b[0;34m\u001b[0m\u001b[0m\n",
            "\u001b[0;31mTypeError\u001b[0m: unsupported operand type(s) for +: 'int' and 'str'"
          ]
        }
      ]
    },
    {
      "cell_type": "code",
      "metadata": {
        "colab": {
          "base_uri": "https://localhost:8080/"
        },
        "id": "LqquHWB9RSw6",
        "outputId": "6c2ba570-3bdb-470e-84a9-08ce08d5b4c1"
      },
      "source": [
        "# Global Variable\n",
        "\n",
        "#Variable that you declared outside the function\n",
        "\n",
        "x = \"ai\"\n",
        "\n",
        "def myfunc():\n",
        "  print(\"I am learning \" +x)\n",
        "\n",
        "myfunc()"
      ],
      "execution_count": 16,
      "outputs": [
        {
          "output_type": "stream",
          "text": [
            "I am learning ai\n"
          ],
          "name": "stdout"
        }
      ]
    },
    {
      "cell_type": "code",
      "metadata": {
        "colab": {
          "base_uri": "https://localhost:8080/"
        },
        "id": "cEBE6VquRoGy",
        "outputId": "a001cfcb-2c85-44b0-bd3c-94b10cf28641"
      },
      "source": [
        "\n",
        "x = \"ai\"\n",
        "\n",
        "def myfunc():\n",
        "  x = \"ml\" # Local Variable\n",
        "  print(\"I am learning \" +x)\n",
        "\n",
        "myfunc()\n",
        "print(\"I am learning \" +x)"
      ],
      "execution_count": 18,
      "outputs": [
        {
          "output_type": "stream",
          "text": [
            "I am learning ml\n",
            "I am learning ai\n"
          ],
          "name": "stdout"
        }
      ]
    },
    {
      "cell_type": "code",
      "metadata": {
        "id": "JlcEdzC7Rzs3"
      },
      "source": [
        ""
      ],
      "execution_count": null,
      "outputs": []
    }
  ]
}