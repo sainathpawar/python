{
  "nbformat": 4,
  "nbformat_minor": 0,
  "metadata": {
    "colab": {
      "name": "Python_Data_Types.ipynb",
      "provenance": []
    },
    "kernelspec": {
      "name": "python3",
      "display_name": "Python 3"
    },
    "language_info": {
      "name": "python"
    }
  },
  "cells": [
    {
      "cell_type": "markdown",
      "source": [
        "Tuple: ordered , immutable,allows duplicate element"
      ],
      "metadata": {
        "id": "OqsvJb4eaFUz"
      }
    },
    {
      "cell_type": "code",
      "execution_count": null,
      "metadata": {
        "id": "XhKyG5rSaAVP"
      },
      "outputs": [],
      "source": [
        "mytuple = (\"sai\",21,\"Pune\")"
      ]
    },
    {
      "cell_type": "code",
      "source": [
        "type(mytuple)"
      ],
      "metadata": {
        "colab": {
          "base_uri": "https://localhost:8080/"
        },
        "id": "J5p-ozfxhFkD",
        "outputId": "dcf34a80-950f-40f2-8ed7-a5fc0707ca8d"
      },
      "execution_count": null,
      "outputs": [
        {
          "output_type": "execute_result",
          "data": {
            "text/plain": [
              "tuple"
            ]
          },
          "metadata": {},
          "execution_count": 4
        }
      ]
    },
    {
      "cell_type": "code",
      "source": [
        "mytuple1 = \"sai\",21,\"mumbai\""
      ],
      "metadata": {
        "id": "lYFxFdBIhRbr"
      },
      "execution_count": null,
      "outputs": []
    },
    {
      "cell_type": "code",
      "source": [
        "type(mytuple1)"
      ],
      "metadata": {
        "colab": {
          "base_uri": "https://localhost:8080/"
        },
        "id": "9emLLv2rhb90",
        "outputId": "40d9af13-6fcb-483b-de16-f9970a4bc617"
      },
      "execution_count": null,
      "outputs": [
        {
          "output_type": "execute_result",
          "data": {
            "text/plain": [
              "tuple"
            ]
          },
          "metadata": {},
          "execution_count": 7
        }
      ]
    },
    {
      "cell_type": "code",
      "source": [
        "t1 = (\"ram\")"
      ],
      "metadata": {
        "id": "DOjERRFohd30"
      },
      "execution_count": null,
      "outputs": []
    },
    {
      "cell_type": "code",
      "source": [
        "type(t1)"
      ],
      "metadata": {
        "colab": {
          "base_uri": "https://localhost:8080/"
        },
        "id": "79ebBHSehmsc",
        "outputId": "896b4427-2280-4207-b42f-1162634774a8"
      },
      "execution_count": null,
      "outputs": [
        {
          "output_type": "execute_result",
          "data": {
            "text/plain": [
              "str"
            ]
          },
          "metadata": {},
          "execution_count": 9
        }
      ]
    },
    {
      "cell_type": "code",
      "source": [
        "t2 = (\"ram\",)"
      ],
      "metadata": {
        "id": "Bmmz3IDChpO1"
      },
      "execution_count": null,
      "outputs": []
    },
    {
      "cell_type": "code",
      "source": [
        "type(t2)"
      ],
      "metadata": {
        "colab": {
          "base_uri": "https://localhost:8080/"
        },
        "id": "dia8Xue1hxGE",
        "outputId": "149c185b-2861-4efd-e8c8-32af0239904b"
      },
      "execution_count": null,
      "outputs": [
        {
          "output_type": "execute_result",
          "data": {
            "text/plain": [
              "tuple"
            ]
          },
          "metadata": {},
          "execution_count": 11
        }
      ]
    },
    {
      "cell_type": "code",
      "source": [
        "mytuple"
      ],
      "metadata": {
        "colab": {
          "base_uri": "https://localhost:8080/"
        },
        "id": "nThJWLLPhyhy",
        "outputId": "34f0379e-33df-45f2-f1ac-a0cf0dc4e8a1"
      },
      "execution_count": null,
      "outputs": [
        {
          "output_type": "execute_result",
          "data": {
            "text/plain": [
              "('sai', 21, 'Pune')"
            ]
          },
          "metadata": {},
          "execution_count": 15
        }
      ]
    },
    {
      "cell_type": "code",
      "source": [
        "mytuple[1]"
      ],
      "metadata": {
        "colab": {
          "base_uri": "https://localhost:8080/"
        },
        "id": "IXhsK2Dyh7g7",
        "outputId": "2e3ab062-dfc3-4bbc-8efa-e534efaf92f5"
      },
      "execution_count": null,
      "outputs": [
        {
          "output_type": "execute_result",
          "data": {
            "text/plain": [
              "21"
            ]
          },
          "metadata": {},
          "execution_count": 13
        }
      ]
    },
    {
      "cell_type": "code",
      "source": [
        "mytuple[-1]"
      ],
      "metadata": {
        "colab": {
          "base_uri": "https://localhost:8080/",
          "height": 35
        },
        "id": "HuroZ2xFh-qt",
        "outputId": "8f96219c-44f4-4f32-b8e5-e5079fa984c6"
      },
      "execution_count": null,
      "outputs": [
        {
          "output_type": "execute_result",
          "data": {
            "text/plain": [
              "'Pune'"
            ],
            "application/vnd.google.colaboratory.intrinsic+json": {
              "type": "string"
            }
          },
          "metadata": {},
          "execution_count": 14
        }
      ]
    },
    {
      "cell_type": "code",
      "source": [
        "# Immutable property of the tuple - VERY IMP - Can not add, remove , update the value inside the tuple once created.\n",
        "mytuple[1] = 50"
      ],
      "metadata": {
        "colab": {
          "base_uri": "https://localhost:8080/",
          "height": 165
        },
        "id": "srevTQhWm_EQ",
        "outputId": "aceb2729-8b39-4dc1-8d61-6f83fddf887a"
      },
      "execution_count": null,
      "outputs": [
        {
          "output_type": "error",
          "ename": "TypeError",
          "evalue": "ignored",
          "traceback": [
            "\u001b[0;31m---------------------------------------------------------------------------\u001b[0m",
            "\u001b[0;31mTypeError\u001b[0m                                 Traceback (most recent call last)",
            "\u001b[0;32m<ipython-input-17-249f53da8459>\u001b[0m in \u001b[0;36m<module>\u001b[0;34m()\u001b[0m\n\u001b[0;32m----> 1\u001b[0;31m \u001b[0mmytuple\u001b[0m\u001b[0;34m[\u001b[0m\u001b[0;36m1\u001b[0m\u001b[0;34m]\u001b[0m \u001b[0;34m=\u001b[0m \u001b[0;36m50\u001b[0m\u001b[0;34m\u001b[0m\u001b[0;34m\u001b[0m\u001b[0m\n\u001b[0m",
            "\u001b[0;31mTypeError\u001b[0m: 'tuple' object does not support item assignment"
          ]
        }
      ]
    },
    {
      "cell_type": "code",
      "source": [
        "# Iterate over tuple\n",
        "\n",
        "for i in range(len(mytuple)):\n",
        "  print(mytuple[i])"
      ],
      "metadata": {
        "colab": {
          "base_uri": "https://localhost:8080/"
        },
        "id": "qcmB-JGMiPnU",
        "outputId": "959e8b95-137e-4309-b0bb-e16ebdbb07aa"
      },
      "execution_count": null,
      "outputs": [
        {
          "output_type": "stream",
          "name": "stdout",
          "text": [
            "sai\n",
            "21\n",
            "Pune\n"
          ]
        }
      ]
    },
    {
      "cell_type": "code",
      "source": [
        "# Allow duplicate value\n",
        "\n",
        "t3 = (1,1,2,2,4,\"sai\",\"ram\")\n",
        "print(t3)"
      ],
      "metadata": {
        "colab": {
          "base_uri": "https://localhost:8080/"
        },
        "id": "y37YxaLfn9qa",
        "outputId": "d04f4da5-aea6-4f17-bfdf-402e8b28cbd5"
      },
      "execution_count": null,
      "outputs": [
        {
          "output_type": "stream",
          "name": "stdout",
          "text": [
            "(1, 1, 2, 2, 4, 'sai', 'ram')\n"
          ]
        }
      ]
    },
    {
      "cell_type": "code",
      "source": [
        "# wanted to know the index of element\n",
        "t3.index('sai')"
      ],
      "metadata": {
        "colab": {
          "base_uri": "https://localhost:8080/"
        },
        "id": "Pjw8dXRIoIjJ",
        "outputId": "96e5e502-8fc4-49f6-b4fb-d5b0903ad979"
      },
      "execution_count": null,
      "outputs": [
        {
          "output_type": "execute_result",
          "data": {
            "text/plain": [
              "5"
            ]
          },
          "metadata": {},
          "execution_count": 20
        }
      ]
    },
    {
      "cell_type": "code",
      "source": [
        "# slicing \n",
        "\n",
        "t3[1:5]"
      ],
      "metadata": {
        "colab": {
          "base_uri": "https://localhost:8080/"
        },
        "id": "MyI2qW-9oTVR",
        "outputId": "4cbbac42-b92e-40f3-c986-bd36e98bdb09"
      },
      "execution_count": null,
      "outputs": [
        {
          "output_type": "execute_result",
          "data": {
            "text/plain": [
              "(1, 2, 2, 4)"
            ]
          },
          "metadata": {},
          "execution_count": 22
        }
      ]
    },
    {
      "cell_type": "code",
      "source": [
        "t3[:]"
      ],
      "metadata": {
        "colab": {
          "base_uri": "https://localhost:8080/"
        },
        "id": "nVEGRPmxodhB",
        "outputId": "1b593d40-e2a1-40de-8ab7-fa128e7fadc4"
      },
      "execution_count": null,
      "outputs": [
        {
          "output_type": "execute_result",
          "data": {
            "text/plain": [
              "(1, 1, 2, 2, 4, 'sai', 'ram')"
            ]
          },
          "metadata": {},
          "execution_count": 23
        }
      ]
    },
    {
      "cell_type": "code",
      "source": [
        "t3[-1]"
      ],
      "metadata": {
        "colab": {
          "base_uri": "https://localhost:8080/",
          "height": 35
        },
        "id": "JJQ33GqGokWo",
        "outputId": "59c118bb-cdf8-4e65-d579-979802032008"
      },
      "execution_count": null,
      "outputs": [
        {
          "output_type": "execute_result",
          "data": {
            "text/plain": [
              "'ram'"
            ],
            "application/vnd.google.colaboratory.intrinsic+json": {
              "type": "string"
            }
          },
          "metadata": {},
          "execution_count": 25
        }
      ]
    },
    {
      "cell_type": "code",
      "source": [
        "t4 = (1,2,3,4,5,6,7,8,9,10)"
      ],
      "metadata": {
        "id": "lfUoF6HqonPX"
      },
      "execution_count": null,
      "outputs": []
    },
    {
      "cell_type": "code",
      "source": [
        "t4[::2]   #t4[start of the index: end of the index:step size]"
      ],
      "metadata": {
        "colab": {
          "base_uri": "https://localhost:8080/"
        },
        "id": "luLV2QZPo2xz",
        "outputId": "bab382e6-b2e0-4fb5-f970-b501b4ab8791"
      },
      "execution_count": null,
      "outputs": [
        {
          "output_type": "execute_result",
          "data": {
            "text/plain": [
              "(1, 3, 5, 7, 9)"
            ]
          },
          "metadata": {},
          "execution_count": 27
        }
      ]
    },
    {
      "cell_type": "code",
      "source": [
        "t4[::-1]"
      ],
      "metadata": {
        "colab": {
          "base_uri": "https://localhost:8080/"
        },
        "id": "fIXxJ89_o5bA",
        "outputId": "0b1f03e6-bb8b-42b8-ee23-91a3a84216f9"
      },
      "execution_count": null,
      "outputs": [
        {
          "output_type": "execute_result",
          "data": {
            "text/plain": [
              "(10, 9, 8, 7, 6, 5, 4, 3, 2, 1)"
            ]
          },
          "metadata": {},
          "execution_count": 28
        }
      ]
    },
    {
      "cell_type": "code",
      "source": [
        "# Unpacking the tuple\n",
        "mytuple"
      ],
      "metadata": {
        "colab": {
          "base_uri": "https://localhost:8080/"
        },
        "id": "oUNmAgHcpRAf",
        "outputId": "10176d40-d9eb-40b6-b179-7aaf4b7ffa97"
      },
      "execution_count": null,
      "outputs": [
        {
          "output_type": "execute_result",
          "data": {
            "text/plain": [
              "('sai', 21, 'Pune')"
            ]
          },
          "metadata": {},
          "execution_count": 29
        }
      ]
    },
    {
      "cell_type": "code",
      "source": [
        "name , age , city = mytuple"
      ],
      "metadata": {
        "id": "3F-_sgoJpW5Y"
      },
      "execution_count": null,
      "outputs": []
    },
    {
      "cell_type": "code",
      "source": [
        "print(name)\n",
        "print(age)\n",
        "print(city)"
      ],
      "metadata": {
        "colab": {
          "base_uri": "https://localhost:8080/"
        },
        "id": "PWgMolgcpb6g",
        "outputId": "880dd0dd-8b1b-49b9-e066-0dfe19ce8c43"
      },
      "execution_count": null,
      "outputs": [
        {
          "output_type": "stream",
          "name": "stdout",
          "text": [
            "sai\n",
            "21\n",
            "Pune\n"
          ]
        }
      ]
    },
    {
      "cell_type": "code",
      "source": [
        "t4"
      ],
      "metadata": {
        "colab": {
          "base_uri": "https://localhost:8080/"
        },
        "id": "BeYomFhJp0eL",
        "outputId": "58c2109e-0386-428b-93f4-702c1ec79272"
      },
      "execution_count": null,
      "outputs": [
        {
          "output_type": "execute_result",
          "data": {
            "text/plain": [
              "(1, 2, 3, 4, 5, 6, 7, 8, 9, 10)"
            ]
          },
          "metadata": {},
          "execution_count": 33
        }
      ]
    },
    {
      "cell_type": "code",
      "source": [
        "first_ele , *second_ele , third_ele = t4"
      ],
      "metadata": {
        "id": "e4GBKWqNphII"
      },
      "execution_count": null,
      "outputs": []
    },
    {
      "cell_type": "code",
      "source": [
        "print(first_ele)\n",
        "print(second_ele)\n",
        "print(third_ele)"
      ],
      "metadata": {
        "colab": {
          "base_uri": "https://localhost:8080/"
        },
        "id": "GpXkFhhVpx1B",
        "outputId": "e331c369-35c1-4aa7-d232-2226038383a8"
      },
      "execution_count": null,
      "outputs": [
        {
          "output_type": "stream",
          "name": "stdout",
          "text": [
            "1\n",
            "[2, 3, 4, 5, 6, 7, 8, 9]\n",
            "10\n"
          ]
        }
      ]
    },
    {
      "cell_type": "code",
      "source": [
        "# tuple is faster than list\n",
        "import timeit\n",
        "\n",
        "print(\"time require to create list\", timeit.timeit(stmt=\"[1,2,3,4,5]\",number=100000))\n",
        "print(\"time require to create tuple\", timeit.timeit(stmt=\"(1,2,3,4,5)\",number=100000))"
      ],
      "metadata": {
        "colab": {
          "base_uri": "https://localhost:8080/"
        },
        "id": "5S-15HHup9LJ",
        "outputId": "8cac994b-ee72-4204-acf1-2fa687377a02"
      },
      "execution_count": null,
      "outputs": [
        {
          "output_type": "stream",
          "name": "stdout",
          "text": [
            "time require to create list 0.013200105000123585\n",
            "time require to create tuple 0.0012971460000699153\n"
          ]
        }
      ]
    },
    {
      "cell_type": "code",
      "source": [
        "# tuple memory efficient as compare to list\n",
        "\n",
        "import sys\n",
        "my_list = [0,1,2,\"sai\",True]\n",
        "my_tuple = (0,1,2,\"sai\",True)\n",
        "print(sys.getsizeof(my_list),\"bytes\")\n",
        "print(sys.getsizeof(my_tuple),\"bytes\")"
      ],
      "metadata": {
        "colab": {
          "base_uri": "https://localhost:8080/"
        },
        "id": "tVDpMT0BqjMY",
        "outputId": "27c68de0-c4af-4817-d9bd-db0c09e75321"
      },
      "execution_count": null,
      "outputs": [
        {
          "output_type": "stream",
          "name": "stdout",
          "text": [
            "112 bytes\n",
            "96 bytes\n"
          ]
        }
      ]
    },
    {
      "cell_type": "markdown",
      "source": [
        "# Dictionary : Key-Value , unordered , Mutable\n",
        "\n"
      ],
      "metadata": {
        "id": "h4FYKN9fOfgE"
      }
    },
    {
      "cell_type": "code",
      "source": [
        "mydict = {\"name\":\"sai\",\"age\":21,\"city\":\"pune\"}\n",
        "print(mydict)"
      ],
      "metadata": {
        "id": "puifIvkNrKd3",
        "colab": {
          "base_uri": "https://localhost:8080/"
        },
        "outputId": "f505e832-aa43-4a40-f65d-b31db50f2497"
      },
      "execution_count": 1,
      "outputs": [
        {
          "output_type": "stream",
          "name": "stdout",
          "text": [
            "{'name': 'sai', 'age': 21, 'city': 'pune'}\n"
          ]
        }
      ]
    },
    {
      "cell_type": "code",
      "source": [
        "mydict1 = dict(name='sai',age='21',city=\"mumbai\")\n",
        "print(mydict1)"
      ],
      "metadata": {
        "colab": {
          "base_uri": "https://localhost:8080/"
        },
        "id": "yOrAKS48Oxd-",
        "outputId": "f0be752b-55be-4954-d0d4-2bbdc3bfda01"
      },
      "execution_count": 2,
      "outputs": [
        {
          "output_type": "stream",
          "name": "stdout",
          "text": [
            "{'name': 'sai', 'age': '21', 'city': 'mumbai'}\n"
          ]
        }
      ]
    },
    {
      "cell_type": "code",
      "source": [
        "# Access value\n",
        "value = mydict[\"name\"]\n",
        "print(value)"
      ],
      "metadata": {
        "colab": {
          "base_uri": "https://localhost:8080/"
        },
        "id": "0nd24CXLPDMP",
        "outputId": "501c4f0d-6410-4bbc-c120-6004c4f3b813"
      },
      "execution_count": 3,
      "outputs": [
        {
          "output_type": "stream",
          "name": "stdout",
          "text": [
            "sai\n"
          ]
        }
      ]
    },
    {
      "cell_type": "code",
      "source": [
        "# Dictionary is mutable\n",
        "\n",
        "mydict[\"email\"] = \"sai@gmail.com\"\n",
        "print(mydict)"
      ],
      "metadata": {
        "colab": {
          "base_uri": "https://localhost:8080/"
        },
        "id": "nZhA4A0sPLYa",
        "outputId": "3bd99aed-a2bc-4013-8433-e66933dec820"
      },
      "execution_count": 4,
      "outputs": [
        {
          "output_type": "stream",
          "name": "stdout",
          "text": [
            "{'name': 'sai', 'age': 21, 'city': 'pune', 'email': 'sai@gmail.com'}\n"
          ]
        }
      ]
    },
    {
      "cell_type": "code",
      "source": [
        "# delete\n",
        "\n",
        "del mydict[\"age\"]\n",
        "print(mydict)"
      ],
      "metadata": {
        "colab": {
          "base_uri": "https://localhost:8080/"
        },
        "id": "_qUr0j9rPW4E",
        "outputId": "fe18c988-6887-4b32-e4e2-f842566954d0"
      },
      "execution_count": 5,
      "outputs": [
        {
          "output_type": "stream",
          "name": "stdout",
          "text": [
            "{'name': 'sai', 'city': 'pune', 'email': 'sai@gmail.com'}\n"
          ]
        }
      ]
    },
    {
      "cell_type": "code",
      "source": [
        "# OR\n",
        "\n",
        "mydict.pop(\"city\")\n",
        "print(mydict)"
      ],
      "metadata": {
        "colab": {
          "base_uri": "https://localhost:8080/"
        },
        "id": "l3aUsO_aPkP6",
        "outputId": "71f3bf51-1115-4937-ca6b-3c576a476a4f"
      },
      "execution_count": 6,
      "outputs": [
        {
          "output_type": "stream",
          "name": "stdout",
          "text": [
            "{'name': 'sai', 'email': 'sai@gmail.com'}\n"
          ]
        }
      ]
    },
    {
      "cell_type": "code",
      "source": [
        "# delete last key from dict\n",
        "\n",
        "mydict.popitem()\n",
        "print(mydict)"
      ],
      "metadata": {
        "colab": {
          "base_uri": "https://localhost:8080/"
        },
        "id": "1aaKATDaPviB",
        "outputId": "a4d43f9b-8082-4a70-9150-90f196b48c17"
      },
      "execution_count": 7,
      "outputs": [
        {
          "output_type": "stream",
          "name": "stdout",
          "text": [
            "{'name': 'sai'}\n"
          ]
        }
      ]
    },
    {
      "cell_type": "code",
      "source": [
        "# iterate over the dictionary\n",
        "for key in mydict1:\n",
        "  print(key)"
      ],
      "metadata": {
        "colab": {
          "base_uri": "https://localhost:8080/"
        },
        "id": "gaeprZezP5b5",
        "outputId": "f6c04570-68c0-4b30-9bb5-b7d2e72c6369"
      },
      "execution_count": 8,
      "outputs": [
        {
          "output_type": "stream",
          "name": "stdout",
          "text": [
            "name\n",
            "age\n",
            "city\n"
          ]
        }
      ]
    },
    {
      "cell_type": "code",
      "source": [
        "for key in mydict1.keys():\n",
        "  print(key)"
      ],
      "metadata": {
        "colab": {
          "base_uri": "https://localhost:8080/"
        },
        "id": "kuuL0ATeQEzx",
        "outputId": "51d347da-4280-4c0a-ebdd-921f9af43664"
      },
      "execution_count": 9,
      "outputs": [
        {
          "output_type": "stream",
          "name": "stdout",
          "text": [
            "name\n",
            "age\n",
            "city\n"
          ]
        }
      ]
    },
    {
      "cell_type": "code",
      "source": [
        "for value in mydict1.values():\n",
        "  print(value)"
      ],
      "metadata": {
        "colab": {
          "base_uri": "https://localhost:8080/"
        },
        "id": "T5bTa8RHQKfM",
        "outputId": "e6490475-6dd7-4054-ba6f-7749dcf5943b"
      },
      "execution_count": 10,
      "outputs": [
        {
          "output_type": "stream",
          "name": "stdout",
          "text": [
            "sai\n",
            "21\n",
            "mumbai\n"
          ]
        }
      ]
    },
    {
      "cell_type": "code",
      "source": [
        "for key,value in mydict1.items():\n",
        "  print(key,value)"
      ],
      "metadata": {
        "colab": {
          "base_uri": "https://localhost:8080/"
        },
        "id": "SvPSSf6oQRGK",
        "outputId": "36e45e75-3dd5-460c-da2a-d7a21c4c08d8"
      },
      "execution_count": 11,
      "outputs": [
        {
          "output_type": "stream",
          "name": "stdout",
          "text": [
            "name sai\n",
            "age 21\n",
            "city mumbai\n"
          ]
        }
      ]
    },
    {
      "cell_type": "code",
      "source": [
        "# copy dict to another dict\n",
        "\n",
        "mydict1_cpy = mydict1\n",
        "print(mydict1_cpy)"
      ],
      "metadata": {
        "colab": {
          "base_uri": "https://localhost:8080/"
        },
        "id": "u3mzssB9QXjZ",
        "outputId": "d55d079d-4d23-43b5-dbe5-ab8b57b5dbdc"
      },
      "execution_count": 12,
      "outputs": [
        {
          "output_type": "stream",
          "name": "stdout",
          "text": [
            "{'name': 'sai', 'age': '21', 'city': 'mumbai'}\n"
          ]
        }
      ]
    },
    {
      "cell_type": "code",
      "source": [
        "mydict1_cpy[\"email\"] = \"sai@outlook.com\"\n",
        "print(mydict1)"
      ],
      "metadata": {
        "colab": {
          "base_uri": "https://localhost:8080/"
        },
        "id": "ixADyJetQmTc",
        "outputId": "5ef56423-ac98-4afd-e3a9-46f2ff47a6c1"
      },
      "execution_count": 13,
      "outputs": [
        {
          "output_type": "stream",
          "name": "stdout",
          "text": [
            "{'name': 'sai', 'age': '21', 'city': 'mumbai', 'email': 'sai@outlook.com'}\n"
          ]
        }
      ]
    },
    {
      "cell_type": "code",
      "source": [
        "mydict1_cpy[\"transport\"] = \"Road\"\n",
        "print(mydict1_cpy)"
      ],
      "metadata": {
        "colab": {
          "base_uri": "https://localhost:8080/"
        },
        "id": "vyB8N_BVQxir",
        "outputId": "876e3500-4b06-4844-916d-480a4816a278"
      },
      "execution_count": 14,
      "outputs": [
        {
          "output_type": "stream",
          "name": "stdout",
          "text": [
            "{'name': 'sai', 'age': '21', 'city': 'mumbai', 'email': 'sai@outlook.com', 'transport': 'Road'}\n"
          ]
        }
      ]
    },
    {
      "cell_type": "code",
      "source": [
        "print(mydict)"
      ],
      "metadata": {
        "colab": {
          "base_uri": "https://localhost:8080/"
        },
        "id": "QTi6gN7aRCPs",
        "outputId": "54b3fb1b-b211-4404-be16-d8cc9d9246ac"
      },
      "execution_count": 15,
      "outputs": [
        {
          "output_type": "stream",
          "name": "stdout",
          "text": [
            "{'name': 'sai'}\n"
          ]
        }
      ]
    },
    {
      "cell_type": "code",
      "source": [
        "# actual copy\n",
        "mydict_cpy = mydict.copy()"
      ],
      "metadata": {
        "id": "9acwLl4YREmv"
      },
      "execution_count": 17,
      "outputs": []
    },
    {
      "cell_type": "code",
      "source": [
        "mydict_cpy[\"age\"] = 50"
      ],
      "metadata": {
        "id": "PnHILyIzRLNS"
      },
      "execution_count": 18,
      "outputs": []
    },
    {
      "cell_type": "code",
      "source": [
        "print(mydict)\n",
        "print(mydict_cpy)"
      ],
      "metadata": {
        "colab": {
          "base_uri": "https://localhost:8080/"
        },
        "id": "CRxd3TW6RVZr",
        "outputId": "8d254968-deb8-40e4-d4e1-fad4e792e833"
      },
      "execution_count": 19,
      "outputs": [
        {
          "output_type": "stream",
          "name": "stdout",
          "text": [
            "{'name': 'sai'}\n",
            "{'name': 'sai', 'age': 50}\n"
          ]
        }
      ]
    },
    {
      "cell_type": "code",
      "source": [
        "# merge operation\n",
        "print(mydict1)"
      ],
      "metadata": {
        "colab": {
          "base_uri": "https://localhost:8080/"
        },
        "id": "O6qX6m7BRYnr",
        "outputId": "aadd7ab2-91c6-4b87-8034-ce4d31aa08b5"
      },
      "execution_count": 20,
      "outputs": [
        {
          "output_type": "stream",
          "name": "stdout",
          "text": [
            "{'name': 'sai', 'age': '21', 'city': 'mumbai', 'email': 'sai@outlook.com', 'transport': 'Road'}\n"
          ]
        }
      ]
    },
    {
      "cell_type": "code",
      "source": [
        "mydict.update(mydict1)\n",
        "print(mydict)"
      ],
      "metadata": {
        "colab": {
          "base_uri": "https://localhost:8080/"
        },
        "id": "uSGFktvaRlqR",
        "outputId": "5f751c4e-0008-4274-f340-61d3a0ee25d3"
      },
      "execution_count": 22,
      "outputs": [
        {
          "output_type": "stream",
          "name": "stdout",
          "text": [
            "{'name': 'sai', 'age': '21', 'city': 'mumbai', 'email': 'sai@outlook.com', 'transport': 'Road'}\n"
          ]
        }
      ]
    },
    {
      "cell_type": "code",
      "source": [
        "# you can use tuple as key in dict\n",
        "\n",
        "newdict = {3:9 , 4:16}\n",
        "mytuple = (8,5)\n",
        "newdict1 = {mytuple:14} \n",
        "print(newdict1)"
      ],
      "metadata": {
        "colab": {
          "base_uri": "https://localhost:8080/"
        },
        "id": "IPso27AaRqHY",
        "outputId": "a9ee4432-cec6-4583-d720-e50293736ba4"
      },
      "execution_count": 23,
      "outputs": [
        {
          "output_type": "stream",
          "name": "stdout",
          "text": [
            "{(8, 5): 14}\n"
          ]
        }
      ]
    },
    {
      "cell_type": "code",
      "source": [
        "mylist = [7,6]\n",
        "newdict3 = {mylist:13} \n",
        "print(newdict3)"
      ],
      "metadata": {
        "colab": {
          "base_uri": "https://localhost:8080/",
          "height": 200
        },
        "id": "HcP6JSUySC95",
        "outputId": "c574cb59-4f87-49ef-e35e-b6e9bb25624e"
      },
      "execution_count": 26,
      "outputs": [
        {
          "output_type": "error",
          "ename": "TypeError",
          "evalue": "ignored",
          "traceback": [
            "\u001b[0;31m---------------------------------------------------------------------------\u001b[0m",
            "\u001b[0;31mTypeError\u001b[0m                                 Traceback (most recent call last)",
            "\u001b[0;32m<ipython-input-26-4d1e37bbde96>\u001b[0m in \u001b[0;36m<module>\u001b[0;34m()\u001b[0m\n\u001b[1;32m      1\u001b[0m \u001b[0mmylist\u001b[0m \u001b[0;34m=\u001b[0m \u001b[0;34m[\u001b[0m\u001b[0;36m7\u001b[0m\u001b[0;34m,\u001b[0m\u001b[0;36m6\u001b[0m\u001b[0;34m]\u001b[0m\u001b[0;34m\u001b[0m\u001b[0;34m\u001b[0m\u001b[0m\n\u001b[0;32m----> 2\u001b[0;31m \u001b[0mnewdict3\u001b[0m \u001b[0;34m=\u001b[0m \u001b[0;34m{\u001b[0m\u001b[0mmylist\u001b[0m\u001b[0;34m:\u001b[0m\u001b[0;36m13\u001b[0m\u001b[0;34m}\u001b[0m\u001b[0;34m\u001b[0m\u001b[0;34m\u001b[0m\u001b[0m\n\u001b[0m\u001b[1;32m      3\u001b[0m \u001b[0mprint\u001b[0m\u001b[0;34m(\u001b[0m\u001b[0mnewdict3\u001b[0m\u001b[0;34m)\u001b[0m\u001b[0;34m\u001b[0m\u001b[0;34m\u001b[0m\u001b[0m\n",
            "\u001b[0;31mTypeError\u001b[0m: unhashable type: 'list'"
          ]
        }
      ]
    },
    {
      "cell_type": "code",
      "source": [
        ""
      ],
      "metadata": {
        "id": "S8oytwnQSMh4"
      },
      "execution_count": null,
      "outputs": []
    }
  ]
}